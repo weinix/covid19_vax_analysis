{
 "cells": [
  {
   "cell_type": "code",
   "execution_count": 70,
   "id": "686805cd",
   "metadata": {},
   "outputs": [
    {
     "data": {
      "text/html": [
       "<style>.container { width:90% !important; }</style>"
      ],
      "text/plain": [
       "<IPython.core.display.HTML object>"
      ]
     },
     "metadata": {},
     "output_type": "display_data"
    }
   ],
   "source": [
    "#pip install wordcloud\n",
    "\n",
    "from IPython.core.display import display, HTML\n",
    "display(HTML(\"<style>.container { width:90% !important; }</style>\"))\n",
    "LFIGSIZE=(2,8)\n",
    "FIGSIZE=(14,8)\n",
    "FIGSIZE2=(20,8)\n",
    "FIGSIZE3=(30,12)\n"
   ]
  },
  {
   "cell_type": "code",
   "execution_count": 71,
   "id": "d1470218",
   "metadata": {},
   "outputs": [],
   "source": [
    "import pandas as pd\n",
    "import seaborn as sns\n",
    "import matplotlib.pyplot as plt\n",
    "import datetime\n",
    "import numpy as np\n",
    "from wordcloud import WordCloud, STOPWORDS\n",
    "import re\n",
    "import time\n",
    "\n",
    "pd.set_option('display.max_columns', None)"
   ]
  },
  {
   "cell_type": "markdown",
   "id": "830baada",
   "metadata": {},
   "source": [
    "## Data process functions\n"
   ]
  },
  {
   "cell_type": "code",
   "execution_count": 72,
   "id": "3d184260",
   "metadata": {},
   "outputs": [],
   "source": [
    "def check_duplicates(df: pd.DataFrame):\n",
    "    ''' \n",
    "    Print duplicated rows and return dataframe without duplicates\n",
    "    '''\n",
    "\n",
    "    duplicates = df[df.duplicated()]\n",
    "    print(\"Doulicate Rows: \")\n",
    "    print(\"===============================\")\n",
    "    print(duplicates)\n",
    "    \n",
    "    return df.drop_duplicates()"
   ]
  },
  {
   "cell_type": "code",
   "execution_count": 73,
   "id": "37880691",
   "metadata": {},
   "outputs": [],
   "source": [
    "def cols_all_nan(df):\n",
    "    ''' Returns columns with NaN for every row in df\n",
    "    \n",
    "    INPUT:\n",
    "    df - pandas dataframe\n",
    "    \n",
    "    OUTPUT:\n",
    "    list of column indices for all columns with all NaN values \n",
    "    '''\n",
    "    return df.columns[df.isnull().all()]\n",
    "\n",
    "def cols_with_nan(df, percentage):\n",
    "    '''Returns the column names that have more than (percentage * 100) %\n",
    "    of their values missing\n",
    "    \n",
    "    INPUT:\n",
    "    df - pandas dataframe\n",
    "    percentage - float, percentage of values missing\n",
    "\n",
    "    OUTPUT:\n",
    "    list of column indices for all columns where more than (percentage * 100) %\n",
    "    of their values are missing\n",
    "    '''\n",
    "    return df.columns[np.sum(df.isnull())/df.shape[0] > percentage]\n",
    "\n",
    "def cols_nan_rate(df):\n",
    "    '''Returns the column names that have more than (percentage * 100) %\n",
    "    of their values missing\n",
    "    \n",
    "    INPUT:\n",
    "    df - pandas dataframe\n",
    "    percentage - float, percentage of values missing\n",
    "\n",
    "    OUTPUT:\n",
    "    list of column indices for all columns where more than (percentage * 100) %\n",
    "    of their values are missing\n",
    "    '''\n",
    "    for col in df.columns:\n",
    "        \n",
    "    return df.columns[np.sum(df.isnull())/df.shape[0] > percentage]"
   ]
  },
  {
   "cell_type": "markdown",
   "id": "74f65f1f",
   "metadata": {},
   "source": [
    "## Query functions"
   ]
  },
  {
   "cell_type": "code",
   "execution_count": 74,
   "id": "ea5b7295",
   "metadata": {},
   "outputs": [],
   "source": [
    "def query_vid(df: pd.DataFrame , id):\n",
    "    '''\n",
    "    Query with a VAERS id\n",
    "    '''\n",
    "    \n",
    "    print(df[df['VAERS_ID']==id])\n",
    "    \n",
    "             "
   ]
  },
  {
   "cell_type": "code",
   "execution_count": 75,
   "id": "7cd92eb3",
   "metadata": {},
   "outputs": [],
   "source": [
    "# read data\n",
    "# read in all datasets\n",
    "data_path_21= '/home/wwang/workspace/covid19_vax_analysis/data/2021VAERSData-08272021/'\n",
    "data_path_20= '/home/wwang/workspace/covid19_vax_analysis/data/2020VAERSData-08272021/'\n",
    "\n",
    "df_patients_21 = pd.read_csv(data_path_21 + '2021VAERSDATA.csv', engine='python',  encoding='latin1')\n",
    "df_symptoms_21 = pd.read_csv(data_path_21 + '2021VAERSSYMPTOMS.csv', encoding='latin1')\n",
    "df_vax_21 = pd.read_csv(data_path_21 + '2021VAERSVAX.csv', encoding='latin1')\n",
    "\n",
    "df_patients_20 = pd.read_csv(data_path_20 +'2020VAERSDATA.csv', engine='python', encoding='latin1')\n",
    "df_symptoms_20 = pd.read_csv(data_path_20 + '2020VAERSSYMPTOMS.csv', encoding='latin1')\n",
    "df_vax_20 = pd.read_csv(data_path_20 + '2020VAERSVAX.csv', encoding='latin1')\n",
    "\n"
   ]
  },
  {
   "cell_type": "code",
   "execution_count": 76,
   "id": "9b90ed17",
   "metadata": {},
   "outputs": [],
   "source": [
    "df_patients = pd.concat([df_patients_20, df_patients_21])\n",
    "df_symptoms = pd.concat([df_symptoms_20, df_symptoms_21])\n",
    "df_vax = pd.concat([df_vax_20, df_vax_21])\n"
   ]
  },
  {
   "cell_type": "code",
   "execution_count": 77,
   "id": "84db3098",
   "metadata": {},
   "outputs": [
    {
     "name": "stdout",
     "output_type": "stream",
     "text": [
      "(484964, 35)\n",
      "(648823, 11)\n",
      "(505121, 8)\n",
      "(49782, 35)\n",
      "(61103, 11)\n",
      "(59710, 8)\n",
      "(534746, 35)\n",
      "(709926, 11)\n",
      "(564831, 8)\n"
     ]
    }
   ],
   "source": [
    "#Study table dimension\n",
    "print(df_patients_21.shape)\n",
    "print(df_symptoms_21.shape)\n",
    "print(df_vax_21.shape)\n",
    "\n",
    "print(df_patients_20.shape)\n",
    "print(df_symptoms_20.shape)\n",
    "print(df_vax_20.shape)\n",
    "\n",
    "print(df_patients.shape)\n",
    "print(df_symptoms.shape)\n",
    "print(df_vax.shape)"
   ]
  },
  {
   "cell_type": "code",
   "execution_count": 78,
   "id": "3555ac69",
   "metadata": {},
   "outputs": [
    {
     "name": "stdout",
     "output_type": "stream",
     "text": [
      "<class 'pandas.core.frame.DataFrame'>\n",
      "Int64Index: 534746 entries, 0 to 484963\n",
      "Data columns (total 35 columns):\n",
      " #   Column        Non-Null Count   Dtype  \n",
      "---  ------        --------------   -----  \n",
      " 0   VAERS_ID      534746 non-null  int64  \n",
      " 1   RECVDATE      534746 non-null  object \n",
      " 2   STATE         473364 non-null  object \n",
      " 3   AGE_YRS       483105 non-null  float64\n",
      " 4   CAGE_YR       442918 non-null  float64\n",
      " 5   CAGE_MO       4328 non-null    float64\n",
      " 6   SEX           534746 non-null  object \n",
      " 7   RPT_DATE      1354 non-null    object \n",
      " 8   SYMPTOM_TEXT  534619 non-null  object \n",
      " 9   DIED          6476 non-null    object \n",
      " 10  DATEDIED      5808 non-null    object \n",
      " 11  L_THREAT      8348 non-null    object \n",
      " 12  ER_VISIT      226 non-null     object \n",
      " 13  HOSPITAL      30322 non-null   object \n",
      " 14  HOSPDAYS      20501 non-null   float64\n",
      " 15  X_STAY        315 non-null     object \n",
      " 16  DISABLE       8563 non-null    object \n",
      " 17  RECOVD        485474 non-null  object \n",
      " 18  VAX_DATE      500972 non-null  object \n",
      " 19  ONSET_DATE    499677 non-null  object \n",
      " 20  NUMDAYS       479910 non-null  float64\n",
      " 21  LAB_DATA      216093 non-null  object \n",
      " 22  V_ADMINBY     534746 non-null  object \n",
      " 23  V_FUNDBY      1447 non-null    object \n",
      " 24  OTHER_MEDS    327172 non-null  object \n",
      " 25  CUR_ILL       262910 non-null  object \n",
      " 26  HISTORY       343660 non-null  object \n",
      " 27  PRIOR_VAX     27222 non-null   object \n",
      " 28  SPLTTYPE      125534 non-null  object \n",
      " 29  FORM_VERS     534746 non-null  int64  \n",
      " 30  TODAYS_DATE   530833 non-null  object \n",
      " 31  BIRTH_DEFECT  311 non-null     object \n",
      " 32  OFC_VISIT     104048 non-null  object \n",
      " 33  ER_ED_VISIT   68068 non-null   object \n",
      " 34  ALLERGIES     300063 non-null  object \n",
      "dtypes: float64(5), int64(2), object(28)\n",
      "memory usage: 146.9+ MB\n"
     ]
    }
   ],
   "source": [
    "df_patients.info()"
   ]
  },
  {
   "cell_type": "code",
   "execution_count": 114,
   "id": "7275df08",
   "metadata": {},
   "outputs": [
    {
     "data": {
      "text/plain": [
       "Index(['VAERS_ID', 'RECVDATE', 'STATE', 'AGE_YRS', 'CAGE_YR', 'CAGE_MO', 'SEX',\n",
       "       'RPT_DATE', 'SYMPTOM_TEXT', 'DIED', 'DATEDIED', 'L_THREAT', 'ER_VISIT',\n",
       "       'HOSPITAL', 'HOSPDAYS', 'X_STAY', 'DISABLE', 'RECOVD', 'VAX_DATE',\n",
       "       'ONSET_DATE', 'NUMDAYS', 'LAB_DATA', 'V_ADMINBY', 'V_FUNDBY',\n",
       "       'OTHER_MEDS', 'CUR_ILL', 'HISTORY', 'PRIOR_VAX', 'SPLTTYPE',\n",
       "       'FORM_VERS', 'TODAYS_DATE', 'BIRTH_DEFECT', 'OFC_VISIT', 'ER_ED_VISIT',\n",
       "       'ALLERGIES'],\n",
       "      dtype='object')"
      ]
     },
     "execution_count": 114,
     "metadata": {},
     "output_type": "execute_result"
    }
   ],
   "source": [
    "df_patients.columns"
   ]
  },
  {
   "cell_type": "markdown",
   "id": "ee1a8f84",
   "metadata": {},
   "source": [
    "# Important Dates\n",
    "* RECVDATE: The date the VAERS form information was received to our processing center.\n",
    "* RPT_DATE: Date the VAERS form was completed by the reporter as recorded on the specified field of the form. This is a VAERS 1 form field only. \n",
    "* TODAYS_DATE: Date Form Completed.\n",
    "* VAX_DATE\n",
    "* ONSET_DATE\n",
    "\n",
    "So, when one of the RPT_DATE, TODAYS_DATE are missing, it should use the other na value"
   ]
  },
  {
   "cell_type": "code",
   "execution_count": 139,
   "id": "864d2157",
   "metadata": {},
   "outputs": [
    {
     "data": {
      "text/plain": [
       "Index(['VAERS_ID', 'RECVDATE', 'STATE', 'AGE_YRS', 'CAGE_YR', 'CAGE_MO', 'SEX',\n",
       "       'RPT_DATE', 'SYMPTOM_TEXT', 'DIED', 'DATEDIED', 'L_THREAT', 'ER_VISIT',\n",
       "       'HOSPITAL', 'HOSPDAYS', 'X_STAY', 'DISABLE', 'RECOVD', 'VAX_DATE',\n",
       "       'ONSET_DATE', 'NUMDAYS', 'LAB_DATA', 'V_ADMINBY', 'V_FUNDBY',\n",
       "       'OTHER_MEDS', 'CUR_ILL', 'HISTORY', 'PRIOR_VAX', 'SPLTTYPE',\n",
       "       'FORM_VERS', 'TODAYS_DATE', 'BIRTH_DEFECT', 'OFC_VISIT', 'ER_ED_VISIT',\n",
       "       'ALLERGIES'],\n",
       "      dtype='object')"
      ]
     },
     "execution_count": 139,
     "metadata": {},
     "output_type": "execute_result"
    }
   ],
   "source": [
    "df_patients.columns"
   ]
  },
  {
   "cell_type": "code",
   "execution_count": 168,
   "id": "faf21a1f",
   "metadata": {},
   "outputs": [
    {
     "data": {
      "text/plain": [
       "3913"
      ]
     },
     "execution_count": 168,
     "metadata": {},
     "output_type": "execute_result"
    }
   ],
   "source": [
    "df_patients[df_patients['TODAYS_DATE'].isnull()].shape[0]"
   ]
  },
  {
   "cell_type": "code",
   "execution_count": 169,
   "id": "c0cd92e1",
   "metadata": {},
   "outputs": [
    {
     "data": {
      "text/plain": [
       "0"
      ]
     },
     "execution_count": 169,
     "metadata": {},
     "output_type": "execute_result"
    }
   ],
   "source": [
    "df_patients[df_patients['RECVDATE'].isnull()].shape[0]"
   ]
  },
  {
   "cell_type": "code",
   "execution_count": 170,
   "id": "7b679fc0",
   "metadata": {},
   "outputs": [
    {
     "data": {
      "text/plain": [
       "533392"
      ]
     },
     "execution_count": 170,
     "metadata": {},
     "output_type": "execute_result"
    }
   ],
   "source": [
    "df_patients[df_patients['RPT_DATE'].isnull()].shape[0]"
   ]
  },
  {
   "cell_type": "code",
   "execution_count": 172,
   "id": "2514d3eb",
   "metadata": {},
   "outputs": [
    {
     "data": {
      "text/plain": [
       "33774"
      ]
     },
     "execution_count": 172,
     "metadata": {},
     "output_type": "execute_result"
    }
   ],
   "source": [
    "df_patients[df_patients['VAX_DATE'].isnull()].shape[0]"
   ]
  },
  {
   "cell_type": "code",
   "execution_count": 173,
   "id": "d8937af0",
   "metadata": {},
   "outputs": [
    {
     "data": {
      "text/plain": [
       "35069"
      ]
     },
     "execution_count": 173,
     "metadata": {},
     "output_type": "execute_result"
    }
   ],
   "source": [
    "df_patients[df_patients['ONSET_DATE'].isnull()].shape[0]"
   ]
  },
  {
   "cell_type": "code",
   "execution_count": 176,
   "id": "04a9a3ee",
   "metadata": {},
   "outputs": [
    {
     "data": {
      "text/plain": [
       "5808"
      ]
     },
     "execution_count": 176,
     "metadata": {},
     "output_type": "execute_result"
    }
   ],
   "source": [
    "df_patients[df_patients['DATEDIED'].isnull() == False ].shape[0]"
   ]
  },
  {
   "cell_type": "code",
   "execution_count": 177,
   "id": "01f1a022",
   "metadata": {},
   "outputs": [
    {
     "data": {
      "text/plain": [
       "6476"
      ]
     },
     "execution_count": 177,
     "metadata": {},
     "output_type": "execute_result"
    }
   ],
   "source": [
    "df_patients[df_patients['DIED'] == 'Y' ].shape[0]"
   ]
  },
  {
   "cell_type": "code",
   "execution_count": 171,
   "id": "dee7259e",
   "metadata": {},
   "outputs": [
    {
     "data": {
      "text/plain": [
       "534746"
      ]
     },
     "execution_count": 171,
     "metadata": {},
     "output_type": "execute_result"
    }
   ],
   "source": [
    "df_patients.shape[0]"
   ]
  },
  {
   "cell_type": "code",
   "execution_count": null,
   "id": "574d7cd9",
   "metadata": {},
   "outputs": [],
   "source": []
  },
  {
   "cell_type": "code",
   "execution_count": 151,
   "id": "2044c66c",
   "metadata": {
    "scrolled": false
   },
   "outputs": [
    {
     "data": {
      "text/html": [
       "<div>\n",
       "<style scoped>\n",
       "    .dataframe tbody tr th:only-of-type {\n",
       "        vertical-align: middle;\n",
       "    }\n",
       "\n",
       "    .dataframe tbody tr th {\n",
       "        vertical-align: top;\n",
       "    }\n",
       "\n",
       "    .dataframe thead th {\n",
       "        text-align: right;\n",
       "    }\n",
       "</style>\n",
       "<table border=\"1\" class=\"dataframe\">\n",
       "  <thead>\n",
       "    <tr style=\"text-align: right;\">\n",
       "      <th></th>\n",
       "      <th>TODAYS_DATE</th>\n",
       "      <th>RPT_DATE</th>\n",
       "    </tr>\n",
       "  </thead>\n",
       "  <tbody>\n",
       "    <tr>\n",
       "      <th>67</th>\n",
       "      <td>NaN</td>\n",
       "      <td>12/26/2019</td>\n",
       "    </tr>\n",
       "    <tr>\n",
       "      <th>218</th>\n",
       "      <td>NaN</td>\n",
       "      <td>01/03/2020</td>\n",
       "    </tr>\n",
       "    <tr>\n",
       "      <th>220</th>\n",
       "      <td>NaN</td>\n",
       "      <td>01/03/2020</td>\n",
       "    </tr>\n",
       "    <tr>\n",
       "      <th>361</th>\n",
       "      <td>NaN</td>\n",
       "      <td>01/06/2020</td>\n",
       "    </tr>\n",
       "    <tr>\n",
       "      <th>427</th>\n",
       "      <td>NaN</td>\n",
       "      <td>12/31/2019</td>\n",
       "    </tr>\n",
       "    <tr>\n",
       "      <th>...</th>\n",
       "      <td>...</td>\n",
       "      <td>...</td>\n",
       "    </tr>\n",
       "    <tr>\n",
       "      <th>484513</th>\n",
       "      <td>NaN</td>\n",
       "      <td>NaN</td>\n",
       "    </tr>\n",
       "    <tr>\n",
       "      <th>484895</th>\n",
       "      <td>NaN</td>\n",
       "      <td>NaN</td>\n",
       "    </tr>\n",
       "    <tr>\n",
       "      <th>484896</th>\n",
       "      <td>NaN</td>\n",
       "      <td>NaN</td>\n",
       "    </tr>\n",
       "    <tr>\n",
       "      <th>484897</th>\n",
       "      <td>NaN</td>\n",
       "      <td>NaN</td>\n",
       "    </tr>\n",
       "    <tr>\n",
       "      <th>484898</th>\n",
       "      <td>NaN</td>\n",
       "      <td>NaN</td>\n",
       "    </tr>\n",
       "  </tbody>\n",
       "</table>\n",
       "<p>3913 rows × 2 columns</p>\n",
       "</div>"
      ],
      "text/plain": [
       "       TODAYS_DATE    RPT_DATE\n",
       "67             NaN  12/26/2019\n",
       "218            NaN  01/03/2020\n",
       "220            NaN  01/03/2020\n",
       "361            NaN  01/06/2020\n",
       "427            NaN  12/31/2019\n",
       "...            ...         ...\n",
       "484513         NaN         NaN\n",
       "484895         NaN         NaN\n",
       "484896         NaN         NaN\n",
       "484897         NaN         NaN\n",
       "484898         NaN         NaN\n",
       "\n",
       "[3913 rows x 2 columns]"
      ]
     },
     "execution_count": 151,
     "metadata": {},
     "output_type": "execute_result"
    }
   ],
   "source": [
    "df_patients[df_patients['TODAYS_DATE'].isnull()][['TODAYS_DATE','RPT_DATE']]"
   ]
  },
  {
   "cell_type": "code",
   "execution_count": 112,
   "id": "162413ff",
   "metadata": {},
   "outputs": [
    {
     "data": {
      "text/html": [
       "<div>\n",
       "<style scoped>\n",
       "    .dataframe tbody tr th:only-of-type {\n",
       "        vertical-align: middle;\n",
       "    }\n",
       "\n",
       "    .dataframe tbody tr th {\n",
       "        vertical-align: top;\n",
       "    }\n",
       "\n",
       "    .dataframe thead th {\n",
       "        text-align: right;\n",
       "    }\n",
       "</style>\n",
       "<table border=\"1\" class=\"dataframe\">\n",
       "  <thead>\n",
       "    <tr style=\"text-align: right;\">\n",
       "      <th></th>\n",
       "      <th>COUNT</th>\n",
       "    </tr>\n",
       "    <tr>\n",
       "      <th>DATE</th>\n",
       "      <th></th>\n",
       "    </tr>\n",
       "  </thead>\n",
       "  <tbody>\n",
       "    <tr>\n",
       "      <th>2020/01/01</th>\n",
       "      <td>23</td>\n",
       "    </tr>\n",
       "    <tr>\n",
       "      <th>2020/01/02</th>\n",
       "      <td>103</td>\n",
       "    </tr>\n",
       "    <tr>\n",
       "      <th>2020/01/03</th>\n",
       "      <td>95</td>\n",
       "    </tr>\n",
       "    <tr>\n",
       "      <th>2020/01/04</th>\n",
       "      <td>26</td>\n",
       "    </tr>\n",
       "    <tr>\n",
       "      <th>2020/01/05</th>\n",
       "      <td>32</td>\n",
       "    </tr>\n",
       "    <tr>\n",
       "      <th>...</th>\n",
       "      <td>...</td>\n",
       "    </tr>\n",
       "    <tr>\n",
       "      <th>2021/08/16</th>\n",
       "      <td>2808</td>\n",
       "    </tr>\n",
       "    <tr>\n",
       "      <th>2021/08/17</th>\n",
       "      <td>1292</td>\n",
       "    </tr>\n",
       "    <tr>\n",
       "      <th>2021/08/18</th>\n",
       "      <td>1536</td>\n",
       "    </tr>\n",
       "    <tr>\n",
       "      <th>2021/08/19</th>\n",
       "      <td>224</td>\n",
       "    </tr>\n",
       "    <tr>\n",
       "      <th>2021/08/20</th>\n",
       "      <td>13</td>\n",
       "    </tr>\n",
       "  </tbody>\n",
       "</table>\n",
       "<p>598 rows × 1 columns</p>\n",
       "</div>"
      ],
      "text/plain": [
       "            COUNT\n",
       "DATE             \n",
       "2020/01/01     23\n",
       "2020/01/02    103\n",
       "2020/01/03     95\n",
       "2020/01/04     26\n",
       "2020/01/05     32\n",
       "...           ...\n",
       "2021/08/16   2808\n",
       "2021/08/17   1292\n",
       "2021/08/18   1536\n",
       "2021/08/19    224\n",
       "2021/08/20     13\n",
       "\n",
       "[598 rows x 1 columns]"
      ]
     },
     "execution_count": 112,
     "metadata": {},
     "output_type": "execute_result"
    }
   ],
   "source": [
    "\n",
    "s=df_patients.groupby(['RECVDATE'])['VAERS_ID'].nunique()\n",
    "daily_case_count= pd.DataFrame({'DATE': s.index, 'COUNT': s.values})\n",
    "#daily_case_count.set_index(['RECVDATE'])\n",
    "daily_case_count['DATE'] = daily_case_count['DATE'].astype('datetime64[ns]')\n",
    "daily_case_count['DATE'] = daily_case_count['DATE'].dt.strftime(\"%Y/%m/%d\")\n",
    "daily_case_count =daily_case_count.sort_values(by='DATE')\n",
    "daily_case_count.set_index('DATE', inplace=True)\n",
    "daily_case_count\n",
    "#weekly_case_count = daily_case_count.resample('w').sum()"
   ]
  },
  {
   "cell_type": "code",
   "execution_count": 98,
   "id": "740b694e",
   "metadata": {},
   "outputs": [
    {
     "data": {
      "text/html": [
       "<div>\n",
       "<style scoped>\n",
       "    .dataframe tbody tr th:only-of-type {\n",
       "        vertical-align: middle;\n",
       "    }\n",
       "\n",
       "    .dataframe tbody tr th {\n",
       "        vertical-align: top;\n",
       "    }\n",
       "\n",
       "    .dataframe thead th {\n",
       "        text-align: right;\n",
       "    }\n",
       "</style>\n",
       "<table border=\"1\" class=\"dataframe\">\n",
       "  <thead>\n",
       "    <tr style=\"text-align: right;\">\n",
       "      <th></th>\n",
       "      <th>VAERS_ID</th>\n",
       "    </tr>\n",
       "    <tr>\n",
       "      <th>RECVDATE</th>\n",
       "      <th></th>\n",
       "    </tr>\n",
       "  </thead>\n",
       "  <tbody>\n",
       "    <tr>\n",
       "      <th>01/01/2020</th>\n",
       "      <td>23</td>\n",
       "    </tr>\n",
       "    <tr>\n",
       "      <th>01/01/2021</th>\n",
       "      <td>514</td>\n",
       "    </tr>\n",
       "    <tr>\n",
       "      <th>01/02/2020</th>\n",
       "      <td>103</td>\n",
       "    </tr>\n",
       "    <tr>\n",
       "      <th>01/02/2021</th>\n",
       "      <td>582</td>\n",
       "    </tr>\n",
       "    <tr>\n",
       "      <th>01/03/2020</th>\n",
       "      <td>95</td>\n",
       "    </tr>\n",
       "    <tr>\n",
       "      <th>...</th>\n",
       "      <td>...</td>\n",
       "    </tr>\n",
       "    <tr>\n",
       "      <th>12/27/2020</th>\n",
       "      <td>303</td>\n",
       "    </tr>\n",
       "    <tr>\n",
       "      <th>12/28/2020</th>\n",
       "      <td>1084</td>\n",
       "    </tr>\n",
       "    <tr>\n",
       "      <th>12/29/2020</th>\n",
       "      <td>1848</td>\n",
       "    </tr>\n",
       "    <tr>\n",
       "      <th>12/30/2020</th>\n",
       "      <td>1876</td>\n",
       "    </tr>\n",
       "    <tr>\n",
       "      <th>12/31/2020</th>\n",
       "      <td>1349</td>\n",
       "    </tr>\n",
       "  </tbody>\n",
       "</table>\n",
       "<p>598 rows × 1 columns</p>\n",
       "</div>"
      ],
      "text/plain": [
       "            VAERS_ID\n",
       "RECVDATE            \n",
       "01/01/2020        23\n",
       "01/01/2021       514\n",
       "01/02/2020       103\n",
       "01/02/2021       582\n",
       "01/03/2020        95\n",
       "...              ...\n",
       "12/27/2020       303\n",
       "12/28/2020      1084\n",
       "12/29/2020      1848\n",
       "12/30/2020      1876\n",
       "12/31/2020      1349\n",
       "\n",
       "[598 rows x 1 columns]"
      ]
     },
     "execution_count": 98,
     "metadata": {},
     "output_type": "execute_result"
    }
   ],
   "source": [
    "daily_case_count"
   ]
  },
  {
   "cell_type": "code",
   "execution_count": 87,
   "id": "5a459880",
   "metadata": {},
   "outputs": [
    {
     "data": {
      "text/html": [
       "<div>\n",
       "<style scoped>\n",
       "    .dataframe tbody tr th:only-of-type {\n",
       "        vertical-align: middle;\n",
       "    }\n",
       "\n",
       "    .dataframe tbody tr th {\n",
       "        vertical-align: top;\n",
       "    }\n",
       "\n",
       "    .dataframe thead th {\n",
       "        text-align: right;\n",
       "    }\n",
       "</style>\n",
       "<table border=\"1\" class=\"dataframe\">\n",
       "  <thead>\n",
       "    <tr style=\"text-align: right;\">\n",
       "      <th></th>\n",
       "      <th>VAERS_ID</th>\n",
       "      <th>SYMPTOM1</th>\n",
       "      <th>SYMPTOMVERSION1</th>\n",
       "      <th>SYMPTOM2</th>\n",
       "      <th>SYMPTOMVERSION2</th>\n",
       "      <th>SYMPTOM3</th>\n",
       "      <th>SYMPTOMVERSION3</th>\n",
       "      <th>SYMPTOM4</th>\n",
       "      <th>SYMPTOMVERSION4</th>\n",
       "      <th>SYMPTOM5</th>\n",
       "      <th>SYMPTOMVERSION5</th>\n",
       "    </tr>\n",
       "  </thead>\n",
       "  <tbody>\n",
       "    <tr>\n",
       "      <th>0</th>\n",
       "      <td>855017</td>\n",
       "      <td>Arthralgia</td>\n",
       "      <td>22.1</td>\n",
       "      <td>Chills</td>\n",
       "      <td>22.1</td>\n",
       "      <td>Injection site pain</td>\n",
       "      <td>22.1</td>\n",
       "      <td>Pyrexia</td>\n",
       "      <td>22.1</td>\n",
       "      <td>NaN</td>\n",
       "      <td>NaN</td>\n",
       "    </tr>\n",
       "    <tr>\n",
       "      <th>1</th>\n",
       "      <td>855018</td>\n",
       "      <td>Chills</td>\n",
       "      <td>22.1</td>\n",
       "      <td>Fatigue</td>\n",
       "      <td>22.1</td>\n",
       "      <td>Hypertension</td>\n",
       "      <td>22.1</td>\n",
       "      <td>Hypoaesthesia</td>\n",
       "      <td>22.1</td>\n",
       "      <td>Injected limb mobility decreased</td>\n",
       "      <td>22.1</td>\n",
       "    </tr>\n",
       "    <tr>\n",
       "      <th>2</th>\n",
       "      <td>855018</td>\n",
       "      <td>Muscular weakness</td>\n",
       "      <td>22.1</td>\n",
       "      <td>Pain in extremity</td>\n",
       "      <td>22.1</td>\n",
       "      <td>Pyrexia</td>\n",
       "      <td>22.1</td>\n",
       "      <td>Tremor</td>\n",
       "      <td>22.1</td>\n",
       "      <td>Vertigo</td>\n",
       "      <td>22.1</td>\n",
       "    </tr>\n",
       "    <tr>\n",
       "      <th>3</th>\n",
       "      <td>855019</td>\n",
       "      <td>Pain</td>\n",
       "      <td>22.1</td>\n",
       "      <td>Pruritus</td>\n",
       "      <td>22.1</td>\n",
       "      <td>Rash</td>\n",
       "      <td>22.1</td>\n",
       "      <td>NaN</td>\n",
       "      <td>NaN</td>\n",
       "      <td>NaN</td>\n",
       "      <td>NaN</td>\n",
       "    </tr>\n",
       "    <tr>\n",
       "      <th>4</th>\n",
       "      <td>855020</td>\n",
       "      <td>Chills</td>\n",
       "      <td>22.1</td>\n",
       "      <td>Influenza like illness</td>\n",
       "      <td>22.1</td>\n",
       "      <td>Myalgia</td>\n",
       "      <td>22.1</td>\n",
       "      <td>Pain in extremity</td>\n",
       "      <td>22.1</td>\n",
       "      <td>Pyrexia</td>\n",
       "      <td>22.1</td>\n",
       "    </tr>\n",
       "    <tr>\n",
       "      <th>...</th>\n",
       "      <td>...</td>\n",
       "      <td>...</td>\n",
       "      <td>...</td>\n",
       "      <td>...</td>\n",
       "      <td>...</td>\n",
       "      <td>...</td>\n",
       "      <td>...</td>\n",
       "      <td>...</td>\n",
       "      <td>...</td>\n",
       "      <td>...</td>\n",
       "      <td>...</td>\n",
       "    </tr>\n",
       "    <tr>\n",
       "      <th>648818</th>\n",
       "      <td>1590973</td>\n",
       "      <td>Laboratory test</td>\n",
       "      <td>24.0</td>\n",
       "      <td>Menstrual disorder</td>\n",
       "      <td>24.0</td>\n",
       "      <td>Premature menopause</td>\n",
       "      <td>24.0</td>\n",
       "      <td>NaN</td>\n",
       "      <td>NaN</td>\n",
       "      <td>NaN</td>\n",
       "      <td>NaN</td>\n",
       "    </tr>\n",
       "    <tr>\n",
       "      <th>648819</th>\n",
       "      <td>1590980</td>\n",
       "      <td>COVID-19</td>\n",
       "      <td>24.0</td>\n",
       "      <td>SARS-CoV-2 test positive</td>\n",
       "      <td>24.0</td>\n",
       "      <td>Vaccine breakthrough infection</td>\n",
       "      <td>24.0</td>\n",
       "      <td>NaN</td>\n",
       "      <td>NaN</td>\n",
       "      <td>NaN</td>\n",
       "      <td>NaN</td>\n",
       "    </tr>\n",
       "    <tr>\n",
       "      <th>648820</th>\n",
       "      <td>1590982</td>\n",
       "      <td>COVID-19</td>\n",
       "      <td>24.0</td>\n",
       "      <td>Chest X-ray abnormal</td>\n",
       "      <td>24.0</td>\n",
       "      <td>Cough</td>\n",
       "      <td>24.0</td>\n",
       "      <td>Decreased appetite</td>\n",
       "      <td>24.0</td>\n",
       "      <td>Dyspnoea</td>\n",
       "      <td>24.0</td>\n",
       "    </tr>\n",
       "    <tr>\n",
       "      <th>648821</th>\n",
       "      <td>1590982</td>\n",
       "      <td>Electrocardiogram abnormal</td>\n",
       "      <td>24.0</td>\n",
       "      <td>Fatigue</td>\n",
       "      <td>24.0</td>\n",
       "      <td>Olfactory nerve disorder</td>\n",
       "      <td>24.0</td>\n",
       "      <td>Pneumonia</td>\n",
       "      <td>24.0</td>\n",
       "      <td>Rhinorrhoea</td>\n",
       "      <td>24.0</td>\n",
       "    </tr>\n",
       "    <tr>\n",
       "      <th>648822</th>\n",
       "      <td>1590982</td>\n",
       "      <td>SARS-CoV-2 test positive</td>\n",
       "      <td>24.0</td>\n",
       "      <td>Wheezing</td>\n",
       "      <td>24.0</td>\n",
       "      <td>NaN</td>\n",
       "      <td>NaN</td>\n",
       "      <td>NaN</td>\n",
       "      <td>NaN</td>\n",
       "      <td>NaN</td>\n",
       "      <td>NaN</td>\n",
       "    </tr>\n",
       "  </tbody>\n",
       "</table>\n",
       "<p>709926 rows × 11 columns</p>\n",
       "</div>"
      ],
      "text/plain": [
       "        VAERS_ID                    SYMPTOM1  SYMPTOMVERSION1  \\\n",
       "0         855017                  Arthralgia             22.1   \n",
       "1         855018                      Chills             22.1   \n",
       "2         855018           Muscular weakness             22.1   \n",
       "3         855019                        Pain             22.1   \n",
       "4         855020                      Chills             22.1   \n",
       "...          ...                         ...              ...   \n",
       "648818   1590973             Laboratory test             24.0   \n",
       "648819   1590980                    COVID-19             24.0   \n",
       "648820   1590982                    COVID-19             24.0   \n",
       "648821   1590982  Electrocardiogram abnormal             24.0   \n",
       "648822   1590982    SARS-CoV-2 test positive             24.0   \n",
       "\n",
       "                        SYMPTOM2  SYMPTOMVERSION2  \\\n",
       "0                         Chills             22.1   \n",
       "1                        Fatigue             22.1   \n",
       "2              Pain in extremity             22.1   \n",
       "3                       Pruritus             22.1   \n",
       "4         Influenza like illness             22.1   \n",
       "...                          ...              ...   \n",
       "648818        Menstrual disorder             24.0   \n",
       "648819  SARS-CoV-2 test positive             24.0   \n",
       "648820      Chest X-ray abnormal             24.0   \n",
       "648821                   Fatigue             24.0   \n",
       "648822                  Wheezing             24.0   \n",
       "\n",
       "                              SYMPTOM3  SYMPTOMVERSION3            SYMPTOM4  \\\n",
       "0                  Injection site pain             22.1             Pyrexia   \n",
       "1                         Hypertension             22.1       Hypoaesthesia   \n",
       "2                              Pyrexia             22.1              Tremor   \n",
       "3                                 Rash             22.1                 NaN   \n",
       "4                              Myalgia             22.1   Pain in extremity   \n",
       "...                                ...              ...                 ...   \n",
       "648818             Premature menopause             24.0                 NaN   \n",
       "648819  Vaccine breakthrough infection             24.0                 NaN   \n",
       "648820                           Cough             24.0  Decreased appetite   \n",
       "648821        Olfactory nerve disorder             24.0           Pneumonia   \n",
       "648822                             NaN              NaN                 NaN   \n",
       "\n",
       "        SYMPTOMVERSION4                          SYMPTOM5  SYMPTOMVERSION5  \n",
       "0                  22.1                               NaN              NaN  \n",
       "1                  22.1  Injected limb mobility decreased             22.1  \n",
       "2                  22.1                           Vertigo             22.1  \n",
       "3                   NaN                               NaN              NaN  \n",
       "4                  22.1                           Pyrexia             22.1  \n",
       "...                 ...                               ...              ...  \n",
       "648818              NaN                               NaN              NaN  \n",
       "648819              NaN                               NaN              NaN  \n",
       "648820             24.0                          Dyspnoea             24.0  \n",
       "648821             24.0                       Rhinorrhoea             24.0  \n",
       "648822              NaN                               NaN              NaN  \n",
       "\n",
       "[709926 rows x 11 columns]"
      ]
     },
     "execution_count": 87,
     "metadata": {},
     "output_type": "execute_result"
    }
   ],
   "source": []
  },
  {
   "cell_type": "code",
   "execution_count": 115,
   "id": "346d19ca",
   "metadata": {
    "scrolled": false
   },
   "outputs": [
    {
     "name": "stdout",
     "output_type": "stream",
     "text": [
      "Doulicate Rows: \n",
      "===============================\n",
      "Empty DataFrame\n",
      "Columns: [VAERS_ID, RECVDATE, STATE, AGE_YRS, CAGE_YR, CAGE_MO, SEX, RPT_DATE, SYMPTOM_TEXT, DIED, DATEDIED, L_THREAT, ER_VISIT, HOSPITAL, HOSPDAYS, X_STAY, DISABLE, RECOVD, VAX_DATE, ONSET_DATE, NUMDAYS, LAB_DATA, V_ADMINBY, V_FUNDBY, OTHER_MEDS, CUR_ILL, HISTORY, PRIOR_VAX, SPLTTYPE, FORM_VERS, TODAYS_DATE, BIRTH_DEFECT, OFC_VISIT, ER_ED_VISIT, ALLERGIES]\n",
      "Index: []\n",
      "Doulicate Rows: \n",
      "===============================\n",
      "Empty DataFrame\n",
      "Columns: [VAERS_ID, SYMPTOM1, SYMPTOMVERSION1, SYMPTOM2, SYMPTOMVERSION2, SYMPTOM3, SYMPTOMVERSION3, SYMPTOM4, SYMPTOMVERSION4, SYMPTOM5, SYMPTOMVERSION5]\n",
      "Index: []\n",
      "Doulicate Rows: \n",
      "===============================\n",
      "        VAERS_ID VAX_TYPE                     VAX_MANU  VAX_LOT  \\\n",
      "17        855033      UNK         UNKNOWN MANUFACTURER  N010497   \n",
      "43        855065     FLUX         UNKNOWN MANUFACTURER      NaN   \n",
      "71        855107   VARZOS  GLAXOSMITHKLINE BIOLOGICALS      NaN   \n",
      "3863      858939      UNK         UNKNOWN MANUFACTURER      NaN   \n",
      "4085      860131      UNK         UNKNOWN MANUFACTURER      NaN   \n",
      "...          ...      ...                          ...      ...   \n",
      "500968   1574000  COVID19                      JANSSEN  042A21A   \n",
      "501581   1574590  COVID19                      MODERNA      NaN   \n",
      "502634   1578359  COVID19              PFIZER\\BIONTECH      NaN   \n",
      "504019   1582161  COVID19              PFIZER\\BIONTECH   EW0171   \n",
      "505098   1588729  COVID19              PFIZER\\BIONTECH      NaN   \n",
      "\n",
      "       VAX_DOSE_SERIES VAX_ROUTE VAX_SITE  \\\n",
      "17                   1        IM       AR   \n",
      "43                 UNK       NaN      NaN   \n",
      "71                 UNK       NaN      NaN   \n",
      "3863               UNK       SYR       LG   \n",
      "4085               UNK       NaN      NaN   \n",
      "...                ...       ...      ...   \n",
      "500968               1        IM       LA   \n",
      "501581               1       SYR       RA   \n",
      "502634               2       SYR       LA   \n",
      "504019             UNK       NaN      NaN   \n",
      "505098               1       SYR       LA   \n",
      "\n",
      "                                     VAX_NAME  \n",
      "17      VACCINE NOT SPECIFIED (NO BRAND NAME)  \n",
      "43       INFLUENZA (SEASONAL) (NO BRAND NAME)  \n",
      "71                          ZOSTER (SHINGRIX)  \n",
      "3863            VACCINE NOT SPECIFIED (OTHER)  \n",
      "4085            VACCINE NOT SPECIFIED (OTHER)  \n",
      "...                                       ...  \n",
      "500968            COVID19 (COVID19 (JANSSEN))  \n",
      "501581            COVID19 (COVID19 (MODERNA))  \n",
      "502634    COVID19 (COVID19 (PFIZER-BIONTECH))  \n",
      "504019    COVID19 (COVID19 (PFIZER-BIONTECH))  \n",
      "505098    COVID19 (COVID19 (PFIZER-BIONTECH))  \n",
      "\n",
      "[1051 rows x 8 columns]\n"
     ]
    }
   ],
   "source": [
    "df_patients = check_duplicates(df_patients)\n",
    "df_symptoms = check_duplicates(df_symptoms)\n",
    "df_vax = check_duplicates(df_vax)"
   ]
  },
  {
   "cell_type": "code",
   "execution_count": null,
   "id": "4e62cfe7",
   "metadata": {},
   "outputs": [],
   "source": [
    "\n",
    "\n",
    "print(df_patients.shape)\n",
    "print(df_symptoms.shape)\n",
    "print(df_vax.shape)"
   ]
  },
  {
   "cell_type": "code",
   "execution_count": 116,
   "id": "19bf4b9e",
   "metadata": {},
   "outputs": [],
   "source": [
    "del df_patients_21\n",
    "del df_symptoms_21\n",
    "del df_vax_21\n",
    "del df_patients_20\n",
    "del df_symptoms_20\n",
    "del df_vax_20"
   ]
  },
  {
   "cell_type": "code",
   "execution_count": 117,
   "id": "9caa9fb8",
   "metadata": {},
   "outputs": [
    {
     "name": "stdout",
     "output_type": "stream",
     "text": [
      "Index(['VAERS_ID', 'RECVDATE', 'STATE', 'AGE_YRS', 'CAGE_YR', 'CAGE_MO', 'SEX',\n",
      "       'RPT_DATE', 'SYMPTOM_TEXT', 'DIED', 'DATEDIED', 'L_THREAT', 'ER_VISIT',\n",
      "       'HOSPITAL', 'HOSPDAYS', 'X_STAY', 'DISABLE', 'RECOVD', 'VAX_DATE',\n",
      "       'ONSET_DATE', 'NUMDAYS', 'LAB_DATA', 'V_ADMINBY', 'V_FUNDBY',\n",
      "       'OTHER_MEDS', 'CUR_ILL', 'HISTORY', 'PRIOR_VAX', 'SPLTTYPE',\n",
      "       'FORM_VERS', 'TODAYS_DATE', 'BIRTH_DEFECT', 'OFC_VISIT', 'ER_ED_VISIT',\n",
      "       'ALLERGIES'],\n",
      "      dtype='object')\n",
      "Index(['VAERS_ID', 'SYMPTOM1', 'SYMPTOMVERSION1', 'SYMPTOM2',\n",
      "       'SYMPTOMVERSION2', 'SYMPTOM3', 'SYMPTOMVERSION3', 'SYMPTOM4',\n",
      "       'SYMPTOMVERSION4', 'SYMPTOM5', 'SYMPTOMVERSION5'],\n",
      "      dtype='object')\n",
      "Index(['VAERS_ID', 'VAX_TYPE', 'VAX_MANU', 'VAX_LOT', 'VAX_DOSE_SERIES',\n",
      "       'VAX_ROUTE', 'VAX_SITE', 'VAX_NAME'],\n",
      "      dtype='object')\n"
     ]
    }
   ],
   "source": [
    "# Study table columns\n",
    "print(df_patients.columns)\n",
    "print(df_symptoms.columns)\n",
    "print(df_vax.columns)"
   ]
  },
  {
   "cell_type": "code",
   "execution_count": 118,
   "id": "11615742",
   "metadata": {},
   "outputs": [
    {
     "name": "stdout",
     "output_type": "stream",
     "text": [
      "534746\n",
      "534743\n",
      "534746\n"
     ]
    }
   ],
   "source": [
    "# check if all datasets have the same number of patients\n",
    "#print(df_patients_21[\"VAERS_ID\"].nunique())\n",
    "#print(df_symptoms_21[\"VAERS_ID\"].nunique())\n",
    "#print(df_vax_21[\"VAERS_ID\"].nunique())\n",
    "#print(df_patients_20[\"VAERS_ID\"].nunique())\n",
    "#print(df_symptoms_20[\"VAERS_ID\"].nunique())\n",
    "#print(df_vax_20[\"VAERS_ID\"].nunique())\n",
    "print(df_patients[\"VAERS_ID\"].nunique())\n",
    "print(df_symptoms[\"VAERS_ID\"].nunique())\n",
    "print(df_vax[\"VAERS_ID\"].nunique())\n",
    "\n"
   ]
  },
  {
   "cell_type": "code",
   "execution_count": null,
   "id": "b3a1eb7a",
   "metadata": {
    "scrolled": true
   },
   "outputs": [],
   "source": [
    "df_patients.head()"
   ]
  },
  {
   "cell_type": "code",
   "execution_count": 119,
   "id": "2e2b7df2",
   "metadata": {},
   "outputs": [],
   "source": [
    "dirty_df_patients = df_patients\n",
    "dirty_df_symptoms = df_symptoms\n",
    "dirty_df_vax = df_vax"
   ]
  },
  {
   "cell_type": "code",
   "execution_count": 120,
   "id": "d0aa5a22",
   "metadata": {},
   "outputs": [],
   "source": [
    "merged_vaers_data = dirty_df_patients.merge(dirty_df_vax, on = 'VAERS_ID', how = 'inner')\n",
    "#merged_vaers_data = merged_vaers_data.merge(dirty_df_symptoms, on = 'VAERS_ID', how = 'inner')"
   ]
  },
  {
   "cell_type": "code",
   "execution_count": 143,
   "id": "b5abcc61",
   "metadata": {},
   "outputs": [
    {
     "data": {
      "text/html": [
       "<div>\n",
       "<style scoped>\n",
       "    .dataframe tbody tr th:only-of-type {\n",
       "        vertical-align: middle;\n",
       "    }\n",
       "\n",
       "    .dataframe tbody tr th {\n",
       "        vertical-align: top;\n",
       "    }\n",
       "\n",
       "    .dataframe thead th {\n",
       "        text-align: right;\n",
       "    }\n",
       "</style>\n",
       "<table border=\"1\" class=\"dataframe\">\n",
       "  <thead>\n",
       "    <tr style=\"text-align: right;\">\n",
       "      <th></th>\n",
       "      <th>VAERS_ID</th>\n",
       "      <th>RECVDATE</th>\n",
       "      <th>VAX_DATE</th>\n",
       "      <th>TODAYS_DATE</th>\n",
       "    </tr>\n",
       "  </thead>\n",
       "  <tbody>\n",
       "    <tr>\n",
       "      <th>0</th>\n",
       "      <td>855017</td>\n",
       "      <td>01/01/2020</td>\n",
       "      <td>12/30/2019</td>\n",
       "      <td>01/01/2020</td>\n",
       "    </tr>\n",
       "    <tr>\n",
       "      <th>1</th>\n",
       "      <td>855018</td>\n",
       "      <td>01/01/2020</td>\n",
       "      <td>12/30/2019</td>\n",
       "      <td>01/01/2020</td>\n",
       "    </tr>\n",
       "    <tr>\n",
       "      <th>2</th>\n",
       "      <td>855019</td>\n",
       "      <td>01/01/2020</td>\n",
       "      <td>12/23/2019</td>\n",
       "      <td>01/01/2020</td>\n",
       "    </tr>\n",
       "    <tr>\n",
       "      <th>3</th>\n",
       "      <td>855020</td>\n",
       "      <td>01/01/2020</td>\n",
       "      <td>12/01/2019</td>\n",
       "      <td>01/01/2020</td>\n",
       "    </tr>\n",
       "    <tr>\n",
       "      <th>4</th>\n",
       "      <td>855021</td>\n",
       "      <td>01/01/2020</td>\n",
       "      <td>12/31/2019</td>\n",
       "      <td>01/01/2020</td>\n",
       "    </tr>\n",
       "    <tr>\n",
       "      <th>...</th>\n",
       "      <td>...</td>\n",
       "      <td>...</td>\n",
       "      <td>...</td>\n",
       "      <td>...</td>\n",
       "    </tr>\n",
       "    <tr>\n",
       "      <th>563775</th>\n",
       "      <td>1590960</td>\n",
       "      <td>08/20/2021</td>\n",
       "      <td>03/31/2021</td>\n",
       "      <td>08/20/2021</td>\n",
       "    </tr>\n",
       "    <tr>\n",
       "      <th>563776</th>\n",
       "      <td>1590960</td>\n",
       "      <td>08/20/2021</td>\n",
       "      <td>03/31/2021</td>\n",
       "      <td>08/20/2021</td>\n",
       "    </tr>\n",
       "    <tr>\n",
       "      <th>563777</th>\n",
       "      <td>1590973</td>\n",
       "      <td>08/20/2021</td>\n",
       "      <td>12/21/2020</td>\n",
       "      <td>08/20/2021</td>\n",
       "    </tr>\n",
       "    <tr>\n",
       "      <th>563778</th>\n",
       "      <td>1590980</td>\n",
       "      <td>08/20/2021</td>\n",
       "      <td>02/17/2021</td>\n",
       "      <td>08/20/2021</td>\n",
       "    </tr>\n",
       "    <tr>\n",
       "      <th>563779</th>\n",
       "      <td>1590982</td>\n",
       "      <td>08/20/2021</td>\n",
       "      <td>03/17/2021</td>\n",
       "      <td>08/20/2021</td>\n",
       "    </tr>\n",
       "  </tbody>\n",
       "</table>\n",
       "<p>563780 rows × 4 columns</p>\n",
       "</div>"
      ],
      "text/plain": [
       "        VAERS_ID    RECVDATE    VAX_DATE TODAYS_DATE\n",
       "0         855017  01/01/2020  12/30/2019  01/01/2020\n",
       "1         855018  01/01/2020  12/30/2019  01/01/2020\n",
       "2         855019  01/01/2020  12/23/2019  01/01/2020\n",
       "3         855020  01/01/2020  12/01/2019  01/01/2020\n",
       "4         855021  01/01/2020  12/31/2019  01/01/2020\n",
       "...          ...         ...         ...         ...\n",
       "563775   1590960  08/20/2021  03/31/2021  08/20/2021\n",
       "563776   1590960  08/20/2021  03/31/2021  08/20/2021\n",
       "563777   1590973  08/20/2021  12/21/2020  08/20/2021\n",
       "563778   1590980  08/20/2021  02/17/2021  08/20/2021\n",
       "563779   1590982  08/20/2021  03/17/2021  08/20/2021\n",
       "\n",
       "[563780 rows x 4 columns]"
      ]
     },
     "execution_count": 143,
     "metadata": {},
     "output_type": "execute_result"
    }
   ],
   "source": [
    "merged_vaers_data[[\"VAERS_ID\", \"RECVDATE\", \"VAX_DATE\",\"TODAYS_DATE\"]]"
   ]
  },
  {
   "cell_type": "code",
   "execution_count": 137,
   "id": "fa7b50da",
   "metadata": {},
   "outputs": [
    {
     "name": "stdout",
     "output_type": "stream",
     "text": [
      "       VAERS_ID    RECVDATE STATE  AGE_YRS  CAGE_YR  CAGE_MO SEX RPT_DATE  \\\n",
      "46358    902418  12/15/2020    NJ     56.0     56.0      NaN   F      NaN   \n",
      "46377    902440  12/15/2020    AZ     35.0     35.0      NaN   F      NaN   \n",
      "46384    902446  12/15/2020    WV     55.0     55.0      NaN   F      NaN   \n",
      "46404    902464  12/15/2020    LA     42.0     42.0      NaN   M      NaN   \n",
      "46405    902465  12/15/2020    AR     60.0     60.0      NaN   F      NaN   \n",
      "\n",
      "                                            SYMPTOM_TEXT DIED DATEDIED  \\\n",
      "46358  Patient experienced mild numbness traveling fr...  NaN      NaN   \n",
      "46377                                       C/O Headache  NaN      NaN   \n",
      "46384  felt warm, hot and face and ears were red and ...  NaN      NaN   \n",
      "46404  within 15 minutes progressive light-headedness...  NaN      NaN   \n",
      "46405  Pt felt wave come over body @ 1218 starting in...  NaN      NaN   \n",
      "\n",
      "      L_THREAT ER_VISIT HOSPITAL  HOSPDAYS X_STAY DISABLE RECOVD    VAX_DATE  \\\n",
      "46358      NaN      NaN      NaN       NaN    NaN     NaN      Y  12/15/2020   \n",
      "46377      NaN      NaN      NaN       NaN    NaN     NaN      Y  12/15/2020   \n",
      "46384      NaN      NaN      NaN       NaN    NaN     NaN      Y  12/15/2020   \n",
      "46404      NaN      NaN      NaN       NaN    NaN     NaN      Y  12/15/2020   \n",
      "46405      NaN      NaN      NaN       NaN    NaN     NaN      N  12/15/2020   \n",
      "\n",
      "       ONSET_DATE  NUMDAYS                                           LAB_DATA  \\\n",
      "46358  12/15/2020      0.0                                               none   \n",
      "46377  12/15/2020      0.0                                               none   \n",
      "46384  12/15/2020      0.0  She took Benadryl 50 mg po.  No medical tests ...   \n",
      "46404  12/15/2020      0.0  Basic Chemistry, EKG, and vitals were all norm...   \n",
      "46405  12/15/2020      0.0                                                BP.   \n",
      "\n",
      "      V_ADMINBY V_FUNDBY                                         OTHER_MEDS  \\\n",
      "46358       PVT      NaN                                              latex   \n",
      "46377       PVT      NaN                                                NaN   \n",
      "46384       OTH      NaN  Novasc, Hydrochlorothiazide, synthroid, lisino...   \n",
      "46404       PVT      NaN                                               none   \n",
      "46405       PUB      NaN  Lisinopril, HCTZ, lipitor, amyitrypline, lexap...   \n",
      "\n",
      "                                           CUR_ILL  \\\n",
      "46358                                         none   \n",
      "46377                                          NaN   \n",
      "46384                                         none   \n",
      "46404                                         none   \n",
      "46405  Bronchitis, finished prednisone on 12-13-20   \n",
      "\n",
      "                                         HISTORY PRIOR_VAX SPLTTYPE  \\\n",
      "46358                                       none       NaN      NaN   \n",
      "46377                                        NaN       NaN      NaN   \n",
      "46384  Hypertension, sleep apnea, hypothyroidism       NaN      NaN   \n",
      "46404                                       none       NaN      NaN   \n",
      "46405                 hypertension, fibromyalgia       NaN      NaN   \n",
      "\n",
      "       FORM_VERS TODAYS_DATE BIRTH_DEFECT OFC_VISIT ER_ED_VISIT  \\\n",
      "46358          2  12/15/2020          NaN       NaN         NaN   \n",
      "46377          2  12/15/2020          NaN       NaN         NaN   \n",
      "46384          2  12/15/2020          NaN       NaN         NaN   \n",
      "46404          2  12/15/2020          NaN       NaN           Y   \n",
      "46405          2  12/15/2020          NaN       NaN         NaN   \n",
      "\n",
      "                                             ALLERGIES VAX_TYPE  \\\n",
      "46358                                             none  COVID19   \n",
      "46377                                              NaN  COVID19   \n",
      "46384  Contrast Dye IV contrast, shellfish, strawberry  COVID19   \n",
      "46404                                             none  COVID19   \n",
      "46405                                           Biaxin  COVID19   \n",
      "\n",
      "              VAX_MANU  VAX_LOT VAX_DOSE_SERIES VAX_ROUTE VAX_SITE  \\\n",
      "46358  PFIZER\\BIONTECH   EH9899               1        IM       LA   \n",
      "46377  PFIZER\\BIONTECH  EH 9899               1       SYR       LA   \n",
      "46384  PFIZER\\BIONTECH   EH9899               1        IM       RA   \n",
      "46404  PFIZER\\BIONTECH   EH9899             UNK        IM       LA   \n",
      "46405  PFIZER\\BIONTECH   EH9899               1        IM       RA   \n",
      "\n",
      "                                  VAX_NAME  \n",
      "46358  COVID19 (COVID19 (PFIZER-BIONTECH))  \n",
      "46377  COVID19 (COVID19 (PFIZER-BIONTECH))  \n",
      "46384  COVID19 (COVID19 (PFIZER-BIONTECH))  \n",
      "46404  COVID19 (COVID19 (PFIZER-BIONTECH))  \n",
      "46405  COVID19 (COVID19 (PFIZER-BIONTECH))  \n"
     ]
    }
   ],
   "source": [
    "merged_vaers_data_covid = merged_vaers_data[merged_vaers_data[\"VAX_TYPE\"]=='COVID19']\n",
    "print(merged_vaers_data_covid.head())\n",
    "s=merged_vaers_data_covid.groupby(['RECVDATE'])['VAERS_ID'].nunique()\n",
    "s\n",
    "daily_case_count= pd.DataFrame({'DATE': s.index, 'COUNT': s.values})\n",
    "#daily_case_count.set_index(['RECVDATE'])\n",
    "#daily_case_count['DATE'] = daily_case_count['DATE'].astype('datetime64[ns]')\n",
    "#daily_case_count['DATE'] = daily_case_count['DATE'].dt.strftime(\"%Y/%m/%d\")\n",
    "#daily_case_count =daily_case_count.sort_values(by='DATE')\n",
    "#daily_case_count.set_index('DATE', inplace=True)\n",
    "#daily_case_count\n",
    "#weekly_case_count = daily_case_count.resample('w').sum()"
   ]
  },
  {
   "cell_type": "code",
   "execution_count": 144,
   "id": "03fe0a0b",
   "metadata": {},
   "outputs": [
    {
     "data": {
      "text/html": [
       "<div>\n",
       "<style scoped>\n",
       "    .dataframe tbody tr th:only-of-type {\n",
       "        vertical-align: middle;\n",
       "    }\n",
       "\n",
       "    .dataframe tbody tr th {\n",
       "        vertical-align: top;\n",
       "    }\n",
       "\n",
       "    .dataframe thead th {\n",
       "        text-align: right;\n",
       "    }\n",
       "</style>\n",
       "<table border=\"1\" class=\"dataframe\">\n",
       "  <thead>\n",
       "    <tr style=\"text-align: right;\">\n",
       "      <th></th>\n",
       "      <th>VAERS_ID</th>\n",
       "      <th>RECVDATE</th>\n",
       "      <th>VAX_DATE</th>\n",
       "      <th>TODAYS_DATE</th>\n",
       "    </tr>\n",
       "  </thead>\n",
       "  <tbody>\n",
       "    <tr>\n",
       "      <th>46358</th>\n",
       "      <td>902418</td>\n",
       "      <td>12/15/2020</td>\n",
       "      <td>12/15/2020</td>\n",
       "      <td>12/15/2020</td>\n",
       "    </tr>\n",
       "    <tr>\n",
       "      <th>46377</th>\n",
       "      <td>902440</td>\n",
       "      <td>12/15/2020</td>\n",
       "      <td>12/15/2020</td>\n",
       "      <td>12/15/2020</td>\n",
       "    </tr>\n",
       "    <tr>\n",
       "      <th>46384</th>\n",
       "      <td>902446</td>\n",
       "      <td>12/15/2020</td>\n",
       "      <td>12/15/2020</td>\n",
       "      <td>12/15/2020</td>\n",
       "    </tr>\n",
       "    <tr>\n",
       "      <th>46404</th>\n",
       "      <td>902464</td>\n",
       "      <td>12/15/2020</td>\n",
       "      <td>12/15/2020</td>\n",
       "      <td>12/15/2020</td>\n",
       "    </tr>\n",
       "    <tr>\n",
       "      <th>46405</th>\n",
       "      <td>902465</td>\n",
       "      <td>12/15/2020</td>\n",
       "      <td>12/15/2020</td>\n",
       "      <td>12/15/2020</td>\n",
       "    </tr>\n",
       "    <tr>\n",
       "      <th>...</th>\n",
       "      <td>...</td>\n",
       "      <td>...</td>\n",
       "      <td>...</td>\n",
       "      <td>...</td>\n",
       "    </tr>\n",
       "    <tr>\n",
       "      <th>563775</th>\n",
       "      <td>1590960</td>\n",
       "      <td>08/20/2021</td>\n",
       "      <td>03/31/2021</td>\n",
       "      <td>08/20/2021</td>\n",
       "    </tr>\n",
       "    <tr>\n",
       "      <th>563776</th>\n",
       "      <td>1590960</td>\n",
       "      <td>08/20/2021</td>\n",
       "      <td>03/31/2021</td>\n",
       "      <td>08/20/2021</td>\n",
       "    </tr>\n",
       "    <tr>\n",
       "      <th>563777</th>\n",
       "      <td>1590973</td>\n",
       "      <td>08/20/2021</td>\n",
       "      <td>12/21/2020</td>\n",
       "      <td>08/20/2021</td>\n",
       "    </tr>\n",
       "    <tr>\n",
       "      <th>563778</th>\n",
       "      <td>1590980</td>\n",
       "      <td>08/20/2021</td>\n",
       "      <td>02/17/2021</td>\n",
       "      <td>08/20/2021</td>\n",
       "    </tr>\n",
       "    <tr>\n",
       "      <th>563779</th>\n",
       "      <td>1590982</td>\n",
       "      <td>08/20/2021</td>\n",
       "      <td>03/17/2021</td>\n",
       "      <td>08/20/2021</td>\n",
       "    </tr>\n",
       "  </tbody>\n",
       "</table>\n",
       "<p>504424 rows × 4 columns</p>\n",
       "</div>"
      ],
      "text/plain": [
       "        VAERS_ID    RECVDATE    VAX_DATE TODAYS_DATE\n",
       "46358     902418  12/15/2020  12/15/2020  12/15/2020\n",
       "46377     902440  12/15/2020  12/15/2020  12/15/2020\n",
       "46384     902446  12/15/2020  12/15/2020  12/15/2020\n",
       "46404     902464  12/15/2020  12/15/2020  12/15/2020\n",
       "46405     902465  12/15/2020  12/15/2020  12/15/2020\n",
       "...          ...         ...         ...         ...\n",
       "563775   1590960  08/20/2021  03/31/2021  08/20/2021\n",
       "563776   1590960  08/20/2021  03/31/2021  08/20/2021\n",
       "563777   1590973  08/20/2021  12/21/2020  08/20/2021\n",
       "563778   1590980  08/20/2021  02/17/2021  08/20/2021\n",
       "563779   1590982  08/20/2021  03/17/2021  08/20/2021\n",
       "\n",
       "[504424 rows x 4 columns]"
      ]
     },
     "execution_count": 144,
     "metadata": {},
     "output_type": "execute_result"
    }
   ],
   "source": [
    "merged_vaers_data_covid[[\"VAERS_ID\", \"RECVDATE\", \"VAX_DATE\",\"TODAYS_DATE\"]]"
   ]
  },
  {
   "cell_type": "code",
   "execution_count": null,
   "id": "cf2e4163",
   "metadata": {},
   "outputs": [],
   "source": [
    "print(df_patients.columns)\n",
    "print(df_vax.columns)\n",
    "print(df_symptoms.columns)\n",
    "print(merged_vaers_data.columns)\n",
    "\n",
    "print(df_patients.shape)\n",
    "print(df_vax.shape)\n",
    "print(df_symptoms.shape)\n",
    "print(merged_vaers_data.shape)"
   ]
  },
  {
   "cell_type": "code",
   "execution_count": null,
   "id": "4f82f3d9",
   "metadata": {
    "scrolled": true
   },
   "outputs": [],
   "source": [
    "merged_vaers_data[merged_vaers_data.duplicated()]"
   ]
  },
  {
   "cell_type": "code",
   "execution_count": null,
   "id": "8b32071e",
   "metadata": {},
   "outputs": [],
   "source": [
    "merged_vaers_data.loc[merged_vaers_data['VAERS_ID'] == 855065 ]"
   ]
  },
  {
   "cell_type": "markdown",
   "id": "6b9bde63",
   "metadata": {},
   "source": [
    "## Check How many different vaccines the merged table has"
   ]
  },
  {
   "cell_type": "code",
   "execution_count": null,
   "id": "45ed0715",
   "metadata": {},
   "outputs": [],
   "source": [
    "merged_vaers_data['VAX_TYPE'].unique()"
   ]
  },
  {
   "cell_type": "markdown",
   "id": "614d66fb",
   "metadata": {},
   "source": [
    "## Remove non-covid19 vaccine data"
   ]
  },
  {
   "cell_type": "code",
   "execution_count": null,
   "id": "b9ff8a1a",
   "metadata": {},
   "outputs": [],
   "source": [
    "# Remove none-covid19 vaccine data\n",
    "merged_vaers_data =  merged_vaers_data[merged_vaers_data['VAX_TYPE'] == 'COVID19']\n"
   ]
  },
  {
   "cell_type": "code",
   "execution_count": null,
   "id": "19581003",
   "metadata": {},
   "outputs": [],
   "source": [
    "merged_vaers_data.head()"
   ]
  },
  {
   "cell_type": "code",
   "execution_count": null,
   "id": "f312f009",
   "metadata": {},
   "outputs": [],
   "source": [
    "print(merged_vaers_data.shape)"
   ]
  },
  {
   "cell_type": "code",
   "execution_count": null,
   "id": "4ad3b0e0",
   "metadata": {},
   "outputs": [],
   "source": [
    "# count of unique value of each column\n",
    "print(merged_vaers_data.nunique())"
   ]
  },
  {
   "cell_type": "code",
   "execution_count": null,
   "id": "8f2f8637",
   "metadata": {
    "scrolled": false
   },
   "outputs": [],
   "source": [
    "#Count Occurences with Pandas value_counts()\n",
    "#pd.set_option('display.max_rows', 40)\n",
    "#with pd.option_context('display.max_rows', None, 'display.max_columns', None):  # more options can be specified also\n",
    "print(merged_vaers_data['VAERS_ID'].value_counts())"
   ]
  },
  {
   "cell_type": "code",
   "execution_count": null,
   "id": "76be2171",
   "metadata": {},
   "outputs": [],
   "source": [
    "df_patients[df_patients['VAERS_ID']==1019670]"
   ]
  },
  {
   "cell_type": "code",
   "execution_count": null,
   "id": "4a96550b",
   "metadata": {},
   "outputs": [],
   "source": [
    "df_vax[df_vax['VAERS_ID']==1019670]"
   ]
  },
  {
   "cell_type": "code",
   "execution_count": null,
   "id": "c713f777",
   "metadata": {},
   "outputs": [],
   "source": [
    "df_symptoms[df_symptoms['VAERS_ID']==1019670].count()"
   ]
  },
  {
   "cell_type": "code",
   "execution_count": null,
   "id": "b9d87691",
   "metadata": {
    "scrolled": true
   },
   "outputs": [],
   "source": [
    "merged_vaers_data[merged_vaers_data['VAERS_ID']==1019670].count()"
   ]
  },
  {
   "cell_type": "code",
   "execution_count": null,
   "id": "f4c65610",
   "metadata": {},
   "outputs": [],
   "source": [
    "merged_vaers_data.info()"
   ]
  },
  {
   "cell_type": "code",
   "execution_count": null,
   "id": "1d3b73cf",
   "metadata": {},
   "outputs": [],
   "source": [
    "# Change text data to upper cases\n",
    "merged_vaers_data= merged_vaers_data.applymap(lambda s:s.upper() if type(s) == str else s)"
   ]
  },
  {
   "cell_type": "code",
   "execution_count": null,
   "id": "5f8731a9",
   "metadata": {},
   "outputs": [],
   "source": [
    "merged_vaers_data['SYMPTOM_TEXT']"
   ]
  },
  {
   "cell_type": "markdown",
   "id": "16cc47a1",
   "metadata": {},
   "source": [
    "# Report functions\n",
    "\n"
   ]
  },
  {
   "cell_type": "code",
   "execution_count": null,
   "id": "44bc66b9",
   "metadata": {},
   "outputs": [],
   "source": [
    "def ana_disease(df : pd.DataFrame, disease : str, bins : int):\n",
    "    NO_OF_BINS=bins\n",
    "    df_disease = df[df.eq(disease.upper()).any(1)]\n",
    "    #print(df_disease.head())\n",
    "    print(df_disease['VAERS_ID'].duplicated())\n",
    "    df_disease['AGE_YRS'].astype(float)\n",
    "    fig = plt.figure()\n",
    "    sns.set(font_scale = (2))\n",
    "    plt.style.use('dark_background')\n",
    "    ax0 = plt.subplot2grid((1,5), (0,0), colspan=1)\n",
    "    ax1 = plt.subplot2grid((1,5), (0,1), colspan=4)\n",
    "    df_disease['AGE_YRS'].plot(kind='box', figsize=LFIGSIZE, ax=ax0, boxprops=dict(linestyle='-', linewidth=4, color='r'), \n",
    "                    medianprops=dict(linestyle='-', linewidth=4),\n",
    "                    whiskerprops=dict(linestyle='-', linewidth=4, color='g'), \n",
    "                    capprops=dict(linestyle='-', linewidth=4),)\n",
    "    df_disease['AGE_YRS'].plot(kind='hist', bins=NO_OF_BINS, figsize=FIGSIZE, edgecolor='r', linewidth=2,ax=ax1)\n",
    "    ax0.set_title('Average Age')\n",
    "    ax1.set_title( disease.capitalize() + ' Reactions by Age')\n",
    "    fig.tight_layout()"
   ]
  },
  {
   "cell_type": "code",
   "execution_count": null,
   "id": "d0b39c22",
   "metadata": {},
   "outputs": [],
   "source": [
    "#query_vid(merged_vaers_data_covid, 748142)\n",
    "merged_vaers_data[merged_vaers_data['VAERS_ID']==748142]"
   ]
  },
  {
   "cell_type": "code",
   "execution_count": null,
   "id": "fdaae778",
   "metadata": {},
   "outputs": [],
   "source": [
    "ana_disease(merged_vaers_data, 'THROMBOCYTOPENIA', 30) # THROMBOCYTOPENIA')"
   ]
  },
  {
   "cell_type": "code",
   "execution_count": null,
   "id": "97baa4fa",
   "metadata": {},
   "outputs": [],
   "source": [
    "ana_disease(merged_vaers_data, 'CANCER', 40)"
   ]
  },
  {
   "cell_type": "code",
   "execution_count": null,
   "id": "5639ee1e",
   "metadata": {},
   "outputs": [],
   "source": [
    "ana_disease(merged_vaers_data, 'MYOCARDITIS', 80)"
   ]
  },
  {
   "cell_type": "code",
   "execution_count": null,
   "id": "5071da30",
   "metadata": {},
   "outputs": [],
   "source": [
    "print(\"Cols NaN for all rows: \", cols_all_nan(merged_vaers_data)) "
   ]
  },
  {
   "cell_type": "code",
   "execution_count": null,
   "id": "3fdfcb57",
   "metadata": {},
   "outputs": [],
   "source": [
    "print(cols_with_nan(merged_vaers_data, 0.5))\n"
   ]
  },
  {
   "cell_type": "markdown",
   "id": "e7078b88",
   "metadata": {},
   "source": [
    "## Missing value explaination\n",
    "* RPT_DATE: Date the VAERS form was completed by reporter(bad system design, this could be easily get upon submit\n",
    "* DIED/DATEDIED: Less than x% died\n"
   ]
  },
  {
   "cell_type": "code",
   "execution_count": null,
   "id": "e95075e6",
   "metadata": {},
   "outputs": [],
   "source": [
    "df_patients_21[\"CUR_ILL\"].replace(\n",
    "    [\"None\", \"No\", \"NONE\", \"unknown\", \"Unknown\", \"none\", \"no\", \"None known\", \"none known\", \n",
    "     \"None reported\", \"none reported\", \"UNKNOWN\", \"N/a\", \"None stated/Denied\",\n",
    "    \"No other illness prior to vaccination or within the month prior\", \"NKDA\", \n",
    "     \"Individual was healthy prior to vaccination.\", \"None.\", \"UNK\", \"As noted above\", \"unsure\", \n",
    "     \"See item 12\", \"no acute illnesses\", \"No symptoms after COVID vaccinations\", \n",
    "    \"Na\", \"None Known\", \"No long term health problems reported on consent form\",\n",
    "    \"no illnesses at time of vaccine\", \"non e\", \"nothing special.\"], \n",
    "    np.nan, inplace=True)\n",
    "df_patients_21[\"CUR_ILL\"].replace(\"Covid 19\", \"COVID_19\", inplace=True)"
   ]
  },
  {
   "cell_type": "code",
   "execution_count": null,
   "id": "a3e1c4a0",
   "metadata": {
    "scrolled": true
   },
   "outputs": [],
   "source": [
    "#pd.set_option('display.max_columns', None)\n",
    "pd.set_option('display.max_rows', 20) # df_patients_21[\"CUR_ILL\"].nunique())\n",
    "print(df_patients_21[\"CUR_ILL\"].nunique())\n",
    "for i in df_patients_21[\"CUR_ILL\"].unique():\n",
    "    print(i)\n",
    "    time.sleep(0.001)\n",
    "    "
   ]
  },
  {
   "cell_type": "code",
   "execution_count": null,
   "id": "8b1c6e92",
   "metadata": {},
   "outputs": [],
   "source": [
    "df_patients_21[\"CUR_ILL\"].replace(\n",
    "    [\"None\", \"No\", \"NONE\", \"unknown\", \"Unknown\", \"none\", \"no\", \"None known\", \"none known\", \n",
    "     \"None reported\", \"none reported\", \"UNKNOWN\", \"N/a\", \"None stated/Denied\",\n",
    "    \"No other illness prior to vaccination or within the month prior\", \"NKDA\", \n",
    "     \"Individual was healthy prior to vaccination.\", \"None.\", \"UNK\", \"As noted above\", \"unsure\", \n",
    "     \"See item 12\", \"no acute illnesses\", \"No symptoms after COVID vaccinations\", \n",
    "    \"Na\"], \n",
    "    np.nan, inplace=True)\n",
    "df_patients_21[\"CUR_ILL\"].replace(\"Covid 19\", \"COVID_19\", inplace=True)"
   ]
  },
  {
   "cell_type": "markdown",
   "id": "4f50d0e4",
   "metadata": {},
   "source": [
    "## Reading vax data from https://covid.ourworldindata.org/data\n"
   ]
  },
  {
   "cell_type": "code",
   "execution_count": null,
   "id": "c5e9868d",
   "metadata": {},
   "outputs": [],
   "source": [
    "world_covid_data = pd.read_csv('https://covid.ourworldindata.org/data/owid-covid-data.csv', parse_dates=['date'])"
   ]
  },
  {
   "cell_type": "code",
   "execution_count": null,
   "id": "c0dc8c7e",
   "metadata": {},
   "outputs": [],
   "source": [
    "us_covid_data = world_covid_data[world_covid_data['iso_code']=='USA']"
   ]
  },
  {
   "cell_type": "code",
   "execution_count": null,
   "id": "7dd5c63a",
   "metadata": {},
   "outputs": [],
   "source": [
    "us_vax_data = pd.DataFrame()\n",
    "us_vax_data[['date', 'new_vaccinations']] = us_covid_data[['date', 'new_vaccinations']] \n",
    "us_vax_data.fillna(0,inplace=True)\n",
    "us_vax_data"
   ]
  },
  {
   "cell_type": "code",
   "execution_count": null,
   "id": "9bfd791a",
   "metadata": {
    "scrolled": true
   },
   "outputs": [],
   "source": [
    "# Total US vax count\n",
    "us_vax_data['new_vaccinations'].sum()"
   ]
  },
  {
   "cell_type": "code",
   "execution_count": null,
   "id": "0ca737c0",
   "metadata": {},
   "outputs": [],
   "source": [
    "# us_vax_data.groupby(us_vax_data['date'].sum().plot(figsize=FIGSIZE3,kind=\"bar\"))\n",
    "us_vax_data.query('new_vaccinations > 0')"
   ]
  },
  {
   "cell_type": "code",
   "execution_count": null,
   "id": "80f57c96",
   "metadata": {},
   "outputs": [],
   "source": [
    "plt.figure(figsize=FIGSIZE3)\n",
    "ax = V_PN['new_vaccinations'].plot(x='date', y='column1', linewidth=5, color='b')\n",
    "ax.ticklabel_format(style='plain', axis='y')\n",
    "plt.yticks(fontsize=16)\n",
    "plt.xticks(fontsize=16)\n",
    "plt.ylabel('Daily Vaccines Administered BLUE LINE', fontsize=16)\n",
    "ax2 = ax.twinx()\n",
    "plt.yticks(fontsize=16)\n",
    "plt.title('VAERS report vs Vaccines Administered', fontsize=16)\n",
    "plt.ylabel('Percent Reported +/- 99% RED LINE', fontsize=16)\n",
    "ax2 = V_PN['percentage'].plot(x='date', y='column2', ax=ax2, color='r', linewidth=5)\n",
    "plt.grid(None)\n",
    "plt.show()"
   ]
  },
  {
   "cell_type": "code",
   "execution_count": null,
   "id": "178562fc",
   "metadata": {},
   "outputs": [],
   "source": [
    "VM_CDC_A = merged_vaers_data[['VAERS_ID', 'RECVDATE', 'STATE', 'AGE_YRS', 'CAGE_YR', 'CAGE_MO', 'SEX',\n",
    "       'RPT_DATE', 'SYMPTOM_TEXT', 'DIED', 'DATEDIED', 'L_THREAT', 'ER_VISIT',\n",
    "       'HOSPITAL', 'HOSPDAYS', 'X_STAY', 'DISABLE', 'RECOVD', 'VAX_DATE',\n",
    "       'ONSET_DATE', 'NUMDAYS', 'LAB_DATA', 'V_ADMINBY', 'V_FUNDBY',\n",
    "       'OTHER_MEDS', 'CUR_ILL', 'HISTORY', 'PRIOR_VAX', 'SPLTTYPE',\n",
    "       'FORM_VERS', 'TODAYS_DATE', 'BIRTH_DEFECT', 'OFC_VISIT', 'ER_ED_VISIT',\n",
    "       'ALLERGIES', 'VAX_TYPE', 'VAX_MANU', 'VAX_LOT', 'VAX_DOSE_SERIES',\n",
    "       'VAX_ROUTE', 'VAX_SITE', 'VAX_NAME', 'SYMPTOM1', 'SYMPTOMVERSION1',\n",
    "       'SYMPTOM2', 'SYMPTOMVERSION2', 'SYMPTOM3', 'SYMPTOMVERSION3',\n",
    "       'SYMPTOM4', 'SYMPTOMVERSION4', 'SYMPTOM5', 'SYMPTOMVERSION5']]\n",
    "    "
   ]
  },
  {
   "cell_type": "code",
   "execution_count": null,
   "id": "418abab9",
   "metadata": {},
   "outputs": [],
   "source": [
    "VM_CDC_A.describe()"
   ]
  },
  {
   "cell_type": "code",
   "execution_count": null,
   "id": "d7bd4857",
   "metadata": {},
   "outputs": [],
   "source": [
    "RS = pd.DataFrame()\n",
    "VM_CDC_A['VAERS']=int(1)\n",
    "VM_CDC_A['WEEK'] = pd.to_datetime(VM_CDC_A['RECVDATE']) - pd.to_timedelta(7,unit='d')\n",
    "pd.set_option('display.max_rows', 100)\n",
    "print(VM_CDC_A[['VAERS_ID', 'RECVDATE', 'WEEK']])\n",
    "VAERS = VM_CDC_A.groupby([pd.Grouper(key='WEEK', freq=\"W-MON\")])['VAERS'].sum().reset_index().sort_values('WEEK')"
   ]
  },
  {
   "cell_type": "code",
   "execution_count": null,
   "id": "18bc657e",
   "metadata": {},
   "outputs": [],
   "source": [
    "RS = pd.DataFrame()\n",
    "VM_CDC_A['VAERS']=int(1)\n",
    "VM_CDC_A['WEEK'] = pd.to_datetime(VM_CDC_A['RECVDATE']) - pd.to_timedelta(7,unit='d')\n",
    "print(VM_CDC_A[['VAERS_ID', 'RECVDATE','WEEK']])\n",
    "VAERS = VM_CDC_A.groupby([pd.Grouper(key='WEEK', freq=\"W-MON\")])['VAERS'].sum().reset_index().sort_values('WEEK')"
   ]
  },
  {
   "cell_type": "code",
   "execution_count": null,
   "id": "dfd4619d",
   "metadata": {},
   "outputs": [],
   "source": [
    "VM_CDC_A[['VAERS', 'WEEK']]\n",
    "VAERS"
   ]
  },
  {
   "cell_type": "code",
   "execution_count": null,
   "id": "d123b68b",
   "metadata": {},
   "outputs": [],
   "source": [
    "pd.to_timedelta(7, unit='d')"
   ]
  },
  {
   "cell_type": "code",
   "execution_count": null,
   "id": "f28d17d1",
   "metadata": {},
   "outputs": [],
   "source": [
    "unique_vid_per_day = merged_vaers_data.groupby([merged_vaers_data['RECVDATE']])['VAERS_ID'].nunique()    \n",
    "unique_vid_per_day"
   ]
  }
 ],
 "metadata": {
  "interpreter": {
   "hash": "52c29d37c06c2ebc090782ee201e54e634d77fb67571585c0ba7fc03c34eba82"
  },
  "kernelspec": {
   "display_name": "Python 3 (ipykernel)",
   "language": "python",
   "name": "python3"
  },
  "language_info": {
   "codemirror_mode": {
    "name": "ipython",
    "version": 3
   },
   "file_extension": ".py",
   "mimetype": "text/x-python",
   "name": "python",
   "nbconvert_exporter": "python",
   "pygments_lexer": "ipython3",
   "version": "3.8.8"
  }
 },
 "nbformat": 4,
 "nbformat_minor": 5
}
